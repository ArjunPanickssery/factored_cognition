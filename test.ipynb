{
 "cells": [
  {
   "cell_type": "code",
   "execution_count": 58,
   "metadata": {},
   "outputs": [],
   "source": [
    "import json\n",
    "\n",
    "# Replace 'your_file.json' with the path to your file\n",
    "file_path = 'your_file.json'\n",
    "\n",
    "dev_file = 'QuALITY.v1.0.1/QuALITY.v1.0.1.htmlstripped.dev'\n",
    "test_file = 'QuALITY.v1.0.1/QuALITY.v1.0.1.htmlstripped.test'\n",
    "train_file = 'QuALITY.v1.0.1/QuALITY.v1.0.1.htmlstripped.train'\n",
    "\n",
    "def read_data(file):\n",
    "    data = []\n",
    "    with open(file, 'r', encoding='utf8') as file:\n",
    "        for line in file:\n",
    "            data.append(json.loads(line))\n",
    "    return data\n",
    "\n",
    "dev_data = read_data(dev_file)\n",
    "train_data = read_data(train_file)\n"
   ]
  },
  {
   "cell_type": "code",
   "execution_count": 67,
   "metadata": {},
   "outputs": [
    {
     "data": {
      "text/plain": [
       "(99, 2523)"
      ]
     },
     "execution_count": 67,
     "metadata": {},
     "output_type": "execute_result"
    }
   ],
   "source": [
    "sum([len(article['questions']) for article in dev_data[:11]]), sum([len(article['questions']) for article in train_data])"
   ]
  },
  {
   "cell_type": "code",
   "execution_count": 48,
   "metadata": {},
   "outputs": [],
   "source": [
    "from openai import OpenAI\n",
    "import os\n",
    "from dotenv import load_dotenv\n",
    "\n",
    "load_dotenv()\n",
    "client = OpenAI(api_key=os.getenv(\"API_KEY\"))\n",
    "\n",
    "def call_openai(prompt, max_tokens=10):\n",
    "    response = client.chat.completions.create(\n",
    "        model=\"gpt-4\",\n",
    "        messages=[{\"role\": \"user\", \"content\": prompt}],\n",
    "        max_tokens=max_tokens,\n",
    "    )\n",
    "\n",
    "    return response.choices[0].message.content"
   ]
  },
  {
   "cell_type": "code",
   "execution_count": 49,
   "metadata": {},
   "outputs": [],
   "source": [
    "def parse_response(response : str) -> int:\n",
    "    for c in response:\n",
    "        if c.isdigit():\n",
    "            return int(c)\n",
    "\n",
    "    return 0"
   ]
  },
  {
   "cell_type": "code",
   "execution_count": 50,
   "metadata": {},
   "outputs": [],
   "source": [
    "def format_prompt(article_text, question, question_options):\n",
    "    \"\"\"\n",
    "    Formats the article text, question, and question options into a prompt.\n",
    "\n",
    "    Args:\n",
    "    - article_text (str): The text of the article.\n",
    "    - question (str): The question to be answered.\n",
    "    - question_options (list): A list of answer options for the question.\n",
    "\n",
    "    Returns:\n",
    "    - str: A formatted prompt string.\n",
    "    \"\"\"\n",
    "    # Formatting the article text\n",
    "    formatted_article = f\"Article:\\n{article_text}\\n\\n\"\n",
    "\n",
    "    # Formatting the question\n",
    "    formatted_question = f\"Question:\\n{question}\\n\\n\"\n",
    "\n",
    "    # Formatting the options\n",
    "    formatted_options = \"Options:\\n\"\n",
    "    for idx, option in enumerate(question_options, start=1):\n",
    "        formatted_options += f\"{idx}. {option}\\n\"\n",
    "\n",
    "    # Combining all parts into one prompt\n",
    "    prompt = formatted_article + formatted_question + formatted_options\n",
    "    return prompt"
   ]
  },
  {
   "cell_type": "code",
   "execution_count": 69,
   "metadata": {},
   "outputs": [
    {
     "data": {
      "text/plain": [
       "dict_keys(['question', 'question_unique_id', 'options', 'writer_label', 'gold_label', 'validation', 'speed_validation', 'difficult'])"
      ]
     },
     "execution_count": 69,
     "metadata": {},
     "output_type": "execute_result"
    }
   ],
   "source": [
    "d[0]['questions'][0].keys()"
   ]
  },
  {
   "cell_type": "code",
   "execution_count": 73,
   "metadata": {},
   "outputs": [],
   "source": [
    "results = []\n",
    "for i, row in enumerate(d[:11]):\n",
    "    # Extracting the article text\n",
    "    article_text = row[\"article\"]\n",
    "\n",
    "    # Extracting the questions and their options\n",
    "    questions = row[\"questions\"]\n",
    "    for j, question_data in enumerate(questions):\n",
    "        question = question_data[\"question\"]\n",
    "        question_options = question_data[\"options\"]\n",
    "        expected_option_idx = question_data[\"gold_label\"]\n",
    "\n",
    "        # Formatting the prompt\n",
    "        formatted_prompt = format_prompt(article_text, question, question_options)\n",
    "        response = call_openai(formatted_prompt)\n",
    "\n",
    "        results.append(\n",
    "            {\n",
    "                \"article_id\": row[\"article_id\"],\n",
    "                \"question_id\": question_data[\"question_unique_id\"],\n",
    "                'response_text': response,\n",
    "                \"response\": parse_response(response),\n",
    "                \"correct_answer\": expected_option_idx,\n",
    "                \"difficulty\": question_data[\"difficult\"],\n",
    "            }\n",
    "        )"
   ]
  },
  {
   "cell_type": "code",
   "execution_count": null,
   "metadata": {},
   "outputs": [
    {
     "data": {
      "text/plain": [
       "[{'article_id': '52995',\n",
       "  'question_id': '52995_I3M5VUMM_1',\n",
       "  'response': 2,\n",
       "  'correct_answer': 3,\n",
       "  'difficulty': 0},\n",
       " {'article_id': '52995',\n",
       "  'question_id': '52995_I3M5VUMM_2',\n",
       "  'response': 4,\n",
       "  'correct_answer': 4,\n",
       "  'difficulty': 0},\n",
       " {'article_id': '52995',\n",
       "  'question_id': '52995_I3M5VUMM_3',\n",
       "  'response': 3,\n",
       "  'correct_answer': 3,\n",
       "  'difficulty': 1},\n",
       " {'article_id': '52995',\n",
       "  'question_id': '52995_I3M5VUMM_4',\n",
       "  'response': 1,\n",
       "  'correct_answer': 1,\n",
       "  'difficulty': 1},\n",
       " {'article_id': '52995',\n",
       "  'question_id': '52995_I3M5VUMM_5',\n",
       "  'response': 1,\n",
       "  'correct_answer': 1,\n",
       "  'difficulty': 1},\n",
       " {'article_id': '52995',\n",
       "  'question_id': '52995_I3M5VUMM_6',\n",
       "  'response': 4,\n",
       "  'correct_answer': 4,\n",
       "  'difficulty': 1},\n",
       " {'article_id': '52995',\n",
       "  'question_id': '52995_I3M5VUMM_7',\n",
       "  'response': 2,\n",
       "  'correct_answer': 2,\n",
       "  'difficulty': 1},\n",
       " {'article_id': '52995',\n",
       "  'question_id': '52995_I3M5VUMM_8',\n",
       "  'response': 1,\n",
       "  'correct_answer': 1,\n",
       "  'difficulty': 0}]"
      ]
     },
     "execution_count": 71,
     "metadata": {},
     "output_type": "execute_result"
    }
   ],
   "source": [
    "with open('results_first_11.json', 'w') as file:\n",
    "    json.dump(results, file)"
   ]
  },
  {
   "cell_type": "code",
   "execution_count": null,
   "metadata": {},
   "outputs": [],
   "source": []
  }
 ],
 "metadata": {
  "kernelspec": {
   "display_name": "venv",
   "language": "python",
   "name": "python3"
  },
  "language_info": {
   "codemirror_mode": {
    "name": "ipython",
    "version": 3
   },
   "file_extension": ".py",
   "mimetype": "text/x-python",
   "name": "python",
   "nbconvert_exporter": "python",
   "pygments_lexer": "ipython3",
   "version": "3.11.5"
  }
 },
 "nbformat": 4,
 "nbformat_minor": 2
}
